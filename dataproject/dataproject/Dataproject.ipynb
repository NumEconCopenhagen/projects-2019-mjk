{
 "cells": [
  {
   "cell_type": "markdown",
   "metadata": {},
   "source": [
    "###### MJK First python project"
   ]
  },
  {
   "cell_type": "markdown",
   "metadata": {},
   "source": [
    "This project is about a few select currencies and their exchange rate towards the danish krone.\n",
    "[The data used in the project is from DST](https://www.statistikbanken.dk/statbank5a/default.asp?w=1500&fbclid=IwAR1ga0_UvEs49G7iRkHG5oG4ZOiDUnLNqL5YvNMpuMLg9sjUu1MpTnFep7Q).\n",
    "\n",
    "The first step in the projec is first to import the relevant data and python packages."
   ]
  },
  {
   "cell_type": "code",
   "execution_count": null,
   "metadata": {},
   "outputs": [],
   "source": [
    "#importing packages\n",
    "import numpy as np\n",
    "import pandas as pd\n",
    "from pandas import Series, DataFrame, Panel\n",
    "import matplotlib.pyplot as plt"
   ]
  },
  {
   "cell_type": "code",
   "execution_count": null,
   "metadata": {},
   "outputs": [],
   "source": [
    "#importing data\n",
    "Values = pd.read_excel('Data_4.xlsx', skiprows=2)\n",
    "df= pd.read_excel('Data_4.xlsx',skiprows=(0,1), skipcolumns=(0,1))"
   ]
  },
  {
   "cell_type": "code",
   "execution_count": null,
   "metadata": {},
   "outputs": [],
   "source": [
    "# deleting columns\n",
    "del df['Unnamed: 0']\n",
    "del df['Unnamed: 1']\n",
    "df.rename(columns ={'Valutakurser efter kurstype, valuta, tid og opgørelsesmetode':'exchange rate (DKK pr. 100 units of currency)','Unnamed: 1':'Currency', 'Unnamed: 2':'year', 'Unnamed: 3': 'yearly ultimo'},inplace = True)"
   ]
  },
  {
   "cell_type": "markdown",
   "metadata": {},
   "source": [
    "The next step is to change the data type of the relevant columns into series so we can do calculations with them and to plot them using matplotlib. We want the type to be lists, which we will transform them into "
   ]
  },
  {
   "cell_type": "code",
   "execution_count": null,
   "metadata": {},
   "outputs": [],
   "source": [
    "#selecting the relevant columns and making them into series\n",
    "s1 = df.iloc[0,1:]\n",
    "s2 = df.iloc[1,1:]\n",
    "s3 = df.iloc[2,1:]\n",
    "s4 = df.iloc[3,1:]\n",
    "s5 = df.iloc[4,1:]\n",
    "s6= df.iloc[5,1:]\n",
    "#Checking type of the series\n",
    "type(s1)\n",
    "s1\n",
    "#changing the type of the series into lists in order to use matplotlib\n",
    "list1 = df.iloc[0,1:].tolist()\n",
    "list2 = df.iloc[1,1:].tolist()\n",
    "list3 = df.iloc[2,1:].tolist()\n",
    "list4 = df.iloc[3,1:].tolist()\n",
    "list5 = df.iloc[4,1:].tolist()\n",
    "list6 = df.iloc[5,1:].tolist()\n",
    "print(list1)"
   ]
  },
  {
   "cell_type": "markdown",
   "metadata": {},
   "source": [
    "In order to plot the exchange rates against years we need to create a variable (and series) for years. The important thing here is that the dimensions are the same. This is important if we want to use matplotlib to plot the series against each other.\n",
    "This means that if we have 20 observations of exchange rates, the year series should also contain 20 observations."
   ]
  },
  {
   "cell_type": "code",
   "execution_count": null,
   "metadata": {},
   "outputs": [],
   "source": [
    "#using the built in function \"range\" to create a year list\n",
    "aar = list(range(1999,2019))\n",
    "print(aar)"
   ]
  },
  {
   "cell_type": "markdown",
   "metadata": {},
   "source": [
    "We now present a lineplot of the exchange rates towards the danish krone"
   ]
  },
  {
   "cell_type": "code",
   "execution_count": null,
   "metadata": {},
   "outputs": [],
   "source": [
    "plt.plot(aar,list1)\n",
    "plt.plot(aar,list2)\n",
    "plt.plot(aar,list3)\n",
    "plt.plot(aar,list4)\n",
    "plt.plot(aar,list5)\n",
    "plt.plot(aar,list6)\n",
    "plt.show()"
   ]
  },
  {
   "cell_type": "markdown",
   "metadata": {},
   "source": [
    "Now we can use matplotlib to get some more specifik numbers on the min,max and median of the distribution of the exchange rates."
   ]
  },
  {
   "cell_type": "code",
   "execution_count": null,
   "metadata": {},
   "outputs": [],
   "source": [
    "#Creating figures\n",
    "plt.boxplot(list1)\n",
    "plt.show()\n",
    "plt.boxplot(list2)\n",
    "plt.show()\n",
    "plt.boxplot(list3)\n",
    "plt.show()\n",
    "plt.boxplot(list4)\n",
    "plt.show()\n",
    "plt.boxplot(list5)\n",
    "plt.show()\n",
    "plt.boxplot(list6)\n",
    "plt.show()"
   ]
  },
  {
   "cell_type": "markdown",
   "metadata": {},
   "source": [
    "Lastly, we have indexed the exchange rates to see how they have changed compared to 1999."
   ]
  },
  {
   "cell_type": "code",
   "execution_count": null,
   "metadata": {},
   "outputs": [],
   "source": [
    "#creating indexes \n",
    "#index figure\n",
    "index1 = list1/list1[0]\n",
    "index2 = list2/list2[0]\n",
    "index3 = list3/list3[0]\n",
    "index4 = list4/list4[0]\n",
    "index5 = list5/list5[0]\n",
    "index6 = list6/list6[0]\n",
    "#plotting \n",
    "plt.plot(aar,index1)\n",
    "plt.plot(aar,index2)\n",
    "plt.plot(aar,index3)\n",
    "plt.plot(aar,index4)\n",
    "plt.plot(aar,index5)\n",
    "plt.plot(aar,index6)\n",
    "plt.show()"
   ]
  },
  {
   "cell_type": "code",
   "execution_count": null,
   "metadata": {},
   "outputs": [],
   "source": []
  },
  {
   "cell_type": "code",
   "execution_count": null,
   "metadata": {},
   "outputs": [],
   "source": []
  },
  {
   "cell_type": "code",
   "execution_count": null,
   "metadata": {},
   "outputs": [],
   "source": []
  },
  {
   "cell_type": "code",
   "execution_count": null,
   "metadata": {},
   "outputs": [],
   "source": []
  }
 ],
 "metadata": {
  "kernelspec": {
   "display_name": "Python 3",
   "language": "python",
   "name": "python3"
  },
  "language_info": {
   "codemirror_mode": {
    "name": "ipython",
    "version": 3
   },
   "file_extension": ".py",
   "mimetype": "text/x-python",
   "name": "python",
   "nbconvert_exporter": "python",
   "pygments_lexer": "ipython3",
   "version": "3.7.1"
  }
 },
 "nbformat": 4,
 "nbformat_minor": 2
}
